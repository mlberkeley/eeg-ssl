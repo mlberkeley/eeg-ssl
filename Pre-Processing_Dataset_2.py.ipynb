{
 "cells": [
  {
   "cell_type": "markdown",
   "metadata": {},
   "source": [
    "## Pre-Processing_Dataset_2.py\n",
    "Alfredo Andere"
   ]
  },
  {
   "cell_type": "markdown",
   "metadata": {},
   "source": [
    "Input: E’ - mne data structure. <p>\n",
    "Output: E - Dataset of epochs of 30 seconds of filtered and normalized data"
   ]
  },
  {
   "cell_type": "code",
   "execution_count": 1,
   "metadata": {},
   "outputs": [],
   "source": [
    "import os\n",
    "import numpy as np\n",
    "import pandas as pd\n",
    "import mne"
   ]
  },
  {
   "cell_type": "code",
   "execution_count": 2,
   "metadata": {},
   "outputs": [
    {
     "name": "stdout",
     "output_type": "stream",
     "text": [
      "Opening raw data file /Users/alfredoanderejr/mne_data/MNE-sample-data/MEG/sample/sample_audvis_filt-0-40_raw.fif...\n",
      "    Read a total of 4 projection items:\n",
      "        PCA-v1 (1 x 102)  idle\n",
      "        PCA-v2 (1 x 102)  idle\n",
      "        PCA-v3 (1 x 102)  idle\n",
      "        Average EEG reference (1 x 60)  idle\n",
      "    Range : 6450 ... 48149 =     42.956 ...   320.665 secs\n",
      "Ready.\n",
      "Current compensation grade : 0\n"
     ]
    }
   ],
   "source": [
    "### Toy data to work with\n",
    "sample_data_folder = mne.datasets.sample.data_path()\n",
    "sample_data_raw_file = os.path.join(sample_data_folder, 'MEG', 'sample', 'sample_audvis_filt-0-40_raw.fif')\n",
    "raw = mne.io.read_raw_fif(sample_data_raw_file)"
   ]
  },
  {
   "cell_type": "markdown",
   "metadata": {},
   "source": [
    "#### Divide into 30s samples\n",
    "Input: E’ - a mne data structure of n number of recordings and t seconds each. <p>\n",
    "Output: E - dataset of epochs e of 30 seconds but temporally ordered. \n",
    "        #epochs = |E’| = (n * t) / 30"
   ]
  },
  {
   "cell_type": "code",
   "execution_count": null,
   "metadata": {},
   "outputs": [],
   "source": [
    "def _create_events(raw, epoch_length):\n",
    "    \"\"\"Create events to split raw into epochs.\"\"\"\n",
    "    file_length = raw.n_times\n",
    "    first_samp = raw.first_samp\n",
    "    sfreq = raw.info['sfreq']\n",
    "    n_samp_in_epoch = int(epoch_length * sfreq)\n",
    "\n",
    "    n_epochs = int(file_length // n_samp_in_epoch)\n",
    "\n",
    "    events = []\n",
    "    for i_epoch in range(n_epochs):\n",
    "        events.append([first_samp + i_epoch * n_samp_in_epoch, int(0), int(0)])\n",
    "    events = np.array(events)\n",
    "    return events\n",
    "\n",
    "\n",
    "def divide_epochs(E, e_len):\n",
    "    \"\"\" Divide\"\"\"\n",
    "    if raw.times[-1] >= ep_length:\n",
    "        events = _create_events(raw, ep_length)\n",
    "    epochs = Epochs(raw, events=events, tmin=0, tmax=e_len) \n",
    "    return epochs"
   ]
  },
  {
   "cell_type": "markdown",
   "metadata": {},
   "source": [
    "#### Downsample to 128 Hz and 3 channels \t[for MASS = 256 Hz]\n",
    "Input: E’  - a mne data structure sampled at a rate r’ > 128 Hz <p>\n",
    "Output: E’ - a mne data structure sampled at a rate r of 128 Hz. "
   ]
  },
  {
   "cell_type": "code",
   "execution_count": null,
   "metadata": {},
   "outputs": [],
   "source": [
    "def downsample(epochs, chs, Hz=128):\n",
    "    \"\"\" Downsample the EEG epoch to Hz=128 Hz and to only \n",
    "        include the channels in ch.\n",
    "    \n",
    "        Args: \n",
    "            E: mne data structure sampled at a rate r’ > 128 Hz\n",
    "            channels: list of the channels to keep\n",
    "            Hz: Hz to downsample to (default 128 Hz)\n",
    "        Returns\n",
    "            E: a mne data structure sampled at a rate r of 128 Hz.\n",
    "    \"\"\"\n",
    "    ch_id = [E.ch_names.index(ch) for ch in chs]\n",
    "    E = E.pick_types(eeg=True, selection=ch_id)\n",
    "    E = E.resample(128, npad='auto')\n",
    "    return E"
   ]
  },
  {
   "cell_type": "markdown",
   "metadata": {},
   "source": [
    "#### Normalization by sample \n",
    "Input: E’ - dataset (ds) of mne epoch objects eE’\n",
    "Output: E  ds of mne epoch objects normalized s.t <p>\n",
    "        mean(e)= 0, var(e) = 1 eE <p>\n",
    "Return E - Dataset of labeled e "
   ]
  },
  {
   "cell_type": "code",
   "execution_count": null,
   "metadata": {},
   "outputs": [],
   "source": []
  },
  {
   "cell_type": "markdown",
   "metadata": {},
   "source": [
    "#### Return E - Dataset of labeled e "
   ]
  },
  {
   "cell_type": "markdown",
   "metadata": {},
   "source": []
  }
 ],
 "metadata": {
  "kernelspec": {
   "display_name": "Python 3",
   "language": "python",
   "name": "python3"
  },
  "language_info": {
   "codemirror_mode": {
    "name": "ipython",
    "version": 3
   },
   "file_extension": ".py",
   "mimetype": "text/x-python",
   "name": "python",
   "nbconvert_exporter": "python",
   "pygments_lexer": "ipython3",
   "version": "3.7.6"
  }
 },
 "nbformat": 4,
 "nbformat_minor": 4
}
