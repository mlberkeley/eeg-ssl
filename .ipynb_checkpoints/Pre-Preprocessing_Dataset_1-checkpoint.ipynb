{
 "cells": [
  {
   "cell_type": "markdown",
   "metadata": {},
   "source": [
    "## Pre-Processing_Dataset_1.py\n",
    "Ana Cismaru"
   ]
  },
  {
   "cell_type": "code",
   "execution_count": 2,
   "metadata": {},
   "outputs": [],
   "source": [
    "import os\n",
    "import numpy as np\n",
    "import mne"
   ]
  },
  {
   "cell_type": "markdown",
   "metadata": {},
   "source": [
    "This notebook uses the Sleep Cassette Study (153 recordings in .edf format) and Data from Sleep EDF Expanded Dataset\n",
    "Link: https://physionet.org/content/sleep-edfx/1.0.0/"
   ]
  },
  {
   "cell_type": "markdown",
   "metadata": {},
   "source": [
    "<b> Upload Data </b>"
   ]
  },
  {
   "cell_type": "markdown",
   "metadata": {},
   "source": [
    "Input: String that contains folder name of folder with PSG.edf files\n",
    "\n",
    "\n",
    "Output: list of MNE Raw Objects"
   ]
  },
  {
   "cell_type": "code",
   "execution_count": 3,
   "metadata": {},
   "outputs": [
    {
     "name": "stdout",
     "output_type": "stream",
     "text": [
      "Extracting EDF parameters from /Users/anacismaru/mlab/eeg-ssl/sample_psg_data/SC4002E0-PSG.edf...\n",
      "EDF file detected\n",
      "Setting channel info structure...\n",
      "Creating raw.info structure...\n",
      "Reading 0 ... 8489999  =      0.000 ... 84899.990 secs...\n",
      "Extracting EDF parameters from /Users/anacismaru/mlab/eeg-ssl/sample_psg_data/SC4011E0-PSG.edf...\n",
      "EDF file detected\n",
      "Setting channel info structure...\n",
      "Creating raw.info structure...\n",
      "Reading 0 ... 8405999  =      0.000 ... 84059.990 secs...\n",
      "Extracting EDF parameters from /Users/anacismaru/mlab/eeg-ssl/sample_psg_data/SC4001E0-PSG.edf...\n",
      "EDF file detected\n",
      "Setting channel info structure...\n",
      "Creating raw.info structure...\n",
      "Reading 0 ... 7949999  =      0.000 ... 79499.990 secs...\n"
     ]
    }
   ],
   "source": [
    "data_folder = \"sample_psg_data\"\n",
    "\n",
    "def upload_raw(data_folder):\n",
    "    mne_raw = []\n",
    "\n",
    "    for path in os.listdir(data_folder):\n",
    "        if path.endswith(\".edf\"):\n",
    "            full_path = os.path.join(data_folder, path)\n",
    "            raw = mne.io.read_raw_edf(full_path, preload=True)\n",
    "            mne_raw.append(raw)\n",
    "    return mne_raw\n",
    "\n",
    "mne_raw = upload_raw(data_folder)"
   ]
  },
  {
   "cell_type": "markdown",
   "metadata": {},
   "source": [
    "<b> Plot upload </b>"
   ]
  },
  {
   "cell_type": "code",
   "execution_count": 4,
   "metadata": {},
   "outputs": [
    {
     "name": "stdout",
     "output_type": "stream",
     "text": [
      "Effective window size : 20.480 (s)\n"
     ]
    },
    {
     "name": "stderr",
     "output_type": "stream",
     "text": [
      "<ipython-input-4-34896292633e>:1: RuntimeWarning: Channel locations not available. Disabling spatial colors.\n",
      "  mne_raw[2].plot_psd()\n"
     ]
    },
    {
     "data": {
      "text/plain": [
       "<Figure size 640x480 with 1 Axes>"
      ]
     },
     "metadata": {},
     "output_type": "display_data"
    },
    {
     "data": {
      "text/plain": [
       "<Figure size 640x480 with 4 Axes>"
      ]
     },
     "metadata": {},
     "output_type": "display_data"
    },
    {
     "name": "stdout",
     "output_type": "stream",
     "text": [
      "check\n"
     ]
    }
   ],
   "source": [
    "mne_raw[2].plot_psd()\n",
    "mne_raw[2].plot()\n",
    "print(\"check\")"
   ]
  },
  {
   "cell_type": "markdown",
   "metadata": {},
   "source": [
    "<b> Remove Non EEG Channels </b>"
   ]
  },
  {
   "cell_type": "markdown",
   "metadata": {},
   "source": [
    "Input: list of MNE Raw Objects\n",
    "\n",
    "Output: list of MNE Raw Objects with only EEG channels"
   ]
  },
  {
   "cell_type": "code",
   "execution_count": 92,
   "metadata": {},
   "outputs": [],
   "source": [
    "#For sleep edf, manual extraction because mne.pick_types isn't working\n",
    "\n",
    "def remove_sleepEDF(mne_raw):\n",
    "    mne_eeg = []\n",
    "    for point in mne_raw:\n",
    "        mne_eeg.append(point.pick_channels([\"EEG Fpz-Cz\", \"EEG Pz-Oz\"]))\n",
    "    return mne_eeg\n",
    "\n",
    "mne_eeg = remove_sleepEDF(mne_raw)"
   ]
  },
  {
   "cell_type": "code",
   "execution_count": 93,
   "metadata": {},
   "outputs": [],
   "source": [
    "#In general\n",
    "def remove(mne_raw):\n",
    "    mne_eeg_gen = []\n",
    "    for point in mne_raw:\n",
    "        mne_eeg_gen.append(point.pick_types(eeg = True))\n",
    "    return mne_eeg_gen"
   ]
  },
  {
   "cell_type": "markdown",
   "metadata": {},
   "source": [
    "<b> Filter 30 HZ 4th-order FIR lowpass filter </b>"
   ]
  },
  {
   "cell_type": "markdown",
   "metadata": {},
   "source": [
    "Input: list of MNE Raw Objects with only EEG chaneels\n",
    "\n",
    "Output: list of filtered MNE Raw Objects"
   ]
  },
  {
   "cell_type": "code",
   "execution_count": 1,
   "metadata": {},
   "outputs": [
    {
     "ename": "NameError",
     "evalue": "name 'mne' is not defined",
     "output_type": "error",
     "traceback": [
      "\u001b[0;31m---------------------------------------------------------------------------\u001b[0m",
      "\u001b[0;31mNameError\u001b[0m                                 Traceback (most recent call last)",
      "\u001b[0;32m<ipython-input-1-83d557823aac>\u001b[0m in \u001b[0;36m<module>\u001b[0;34m\u001b[0m\n\u001b[1;32m      1\u001b[0m \u001b[0;31m#NOT FINISHED\u001b[0m\u001b[0;34m\u001b[0m\u001b[0;34m\u001b[0m\u001b[0;34m\u001b[0m\u001b[0m\n\u001b[0;32m----> 2\u001b[0;31m filter = mne.filter.create_filter(data=mne_eeg[1][1],\n\u001b[0m\u001b[1;32m      3\u001b[0m                                  \u001b[0msfreq\u001b[0m\u001b[0;34m=\u001b[0m\u001b[0;36m100\u001b[0m\u001b[0;34m,\u001b[0m \u001b[0;31m#for sleep EDF, for MASS is 256Hz\u001b[0m\u001b[0;34m\u001b[0m\u001b[0;34m\u001b[0m\u001b[0m\n\u001b[1;32m      4\u001b[0m                                  \u001b[0ml_freq\u001b[0m\u001b[0;34m=\u001b[0m\u001b[0;32mNone\u001b[0m\u001b[0;34m,\u001b[0m\u001b[0;34m\u001b[0m\u001b[0;34m\u001b[0m\u001b[0m\n\u001b[1;32m      5\u001b[0m                                  \u001b[0mh_freq\u001b[0m\u001b[0;34m=\u001b[0m\u001b[0;36m30\u001b[0m\u001b[0;34m,\u001b[0m\u001b[0;34m\u001b[0m\u001b[0;34m\u001b[0m\u001b[0m\n",
      "\u001b[0;31mNameError\u001b[0m: name 'mne' is not defined"
     ]
    }
   ],
   "source": [
    "#NOT FINISHED\n",
    "filter = mne.filter.create_filter(data=mne_eeg[1][1],\n",
    "                                 sfreq=100, #for sleep EDF, for MASS is 256Hz\n",
    "                                 l_freq=None,\n",
    "                                 h_freq=30,\n",
    "                                 )"
   ]
  },
  {
   "cell_type": "markdown",
   "metadata": {},
   "source": [
    "<b> Label Engineering: merge labels 3 and 4 </b>"
   ]
  },
  {
   "cell_type": "markdown",
   "metadata": {},
   "source": [
    "Input: path to folder containing Hypnogram label files (.edf format)\n",
    "\n",
    "Output: list of MNE Annotation Objects"
   ]
  },
  {
   "cell_type": "code",
   "execution_count": 95,
   "metadata": {},
   "outputs": [],
   "source": [
    "data_folder = \"sample_hypnogram_data\"\n",
    "\n",
    "def upload_labels(data_folder):\n",
    "    labels = []\n",
    "    for path in os.listdir(data_folder):\n",
    "        if path.endswith(\".edf\"):\n",
    "            full_path = os.path.join(data_folder, path)\n",
    "            label = mne.read_annotations(full_path)\n",
    "            labels.append(label)\n",
    "    return labels\n",
    "\n",
    "labels = upload_labels(data_folder)"
   ]
  },
  {
   "cell_type": "markdown",
   "metadata": {},
   "source": [
    "Input: list of MNE Annotation Objects\n",
    "\n",
    "Output: list of MNE Annotation Objects with merged labels 3 and 4 --> now label 3"
   ]
  },
  {
   "cell_type": "code",
   "execution_count": 97,
   "metadata": {},
   "outputs": [],
   "source": [
    "def merge(labels):\n",
    "    \n",
    "    def merge_labels(label):\n",
    "        new_label = np.array([])\n",
    "        for stage in label:\n",
    "            if stage == \"Sleep stage 4\":\n",
    "                new_label = np.append(new_label, \"Sleep stage 3\")\n",
    "            else:\n",
    "                new_label = np.append(new_label, stage)\n",
    "        return new_label\n",
    "    \n",
    "    for label in labels:\n",
    "        label.description = merge_labels(label.description)\n",
    "    \n",
    "merge(labels)        "
   ]
  },
  {
   "cell_type": "code",
   "execution_count": null,
   "metadata": {},
   "outputs": [],
   "source": []
  },
  {
   "cell_type": "code",
   "execution_count": null,
   "metadata": {},
   "outputs": [],
   "source": []
  }
 ],
 "metadata": {
  "kernelspec": {
   "display_name": "p37",
   "language": "python",
   "name": "p37"
  },
  "language_info": {
   "codemirror_mode": {
    "name": "ipython",
    "version": 3
   },
   "file_extension": ".py",
   "mimetype": "text/x-python",
   "name": "python",
   "nbconvert_exporter": "python",
   "pygments_lexer": "ipython3",
   "version": "3.7.4"
  }
 },
 "nbformat": 4,
 "nbformat_minor": 2
}
