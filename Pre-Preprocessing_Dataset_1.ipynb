{
 "cells": [
  {
   "cell_type": "markdown",
   "metadata": {},
   "source": [
    "## Pre-Processing_Dataset_1.py\n",
    "Ana Cismaru"
   ]
  },
  {
   "cell_type": "code",
   "execution_count": 4,
   "metadata": {},
   "outputs": [
    {
     "ename": "ModuleNotFoundError",
     "evalue": "No module named 'cloudstorage'",
     "output_type": "error",
     "traceback": [
      "\u001b[0;31m---------------------------------------------------------------------------\u001b[0m",
      "\u001b[0;31mModuleNotFoundError\u001b[0m                       Traceback (most recent call last)",
      "\u001b[0;32m<ipython-input-4-5845450b16f3>\u001b[0m in \u001b[0;36m<module>\u001b[0;34m\u001b[0m\n\u001b[1;32m      2\u001b[0m \u001b[0;32mimport\u001b[0m \u001b[0mnumpy\u001b[0m \u001b[0;32mas\u001b[0m \u001b[0mnp\u001b[0m\u001b[0;34m\u001b[0m\u001b[0;34m\u001b[0m\u001b[0m\n\u001b[1;32m      3\u001b[0m \u001b[0;32mimport\u001b[0m \u001b[0mmne\u001b[0m\u001b[0;34m\u001b[0m\u001b[0;34m\u001b[0m\u001b[0m\n\u001b[0;32m----> 4\u001b[0;31m \u001b[0;32mimport\u001b[0m \u001b[0mcloudstorage\u001b[0m \u001b[0;32mas\u001b[0m \u001b[0mgcs\u001b[0m\u001b[0;34m\u001b[0m\u001b[0;34m\u001b[0m\u001b[0m\n\u001b[0m",
      "\u001b[0;31mModuleNotFoundError\u001b[0m: No module named 'cloudstorage'"
     ]
    }
   ],
   "source": [
    "import os\n",
    "import numpy as np\n",
    "import mne\n",
    "import cloudstorage as gcs"
   ]
  },
  {
   "cell_type": "markdown",
   "metadata": {},
   "source": [
    "This notebook uses the Sleep Cassette Study (153 recordings in .edf format) and Data from Sleep EDF Expanded Dataset\n",
    "Link: https://physionet.org/content/sleep-edfx/1.0.0/"
   ]
  },
  {
   "cell_type": "code",
   "execution_count": 5,
   "metadata": {},
   "outputs": [
    {
     "ename": "ModuleNotFoundError",
     "evalue": "No module named 'google'",
     "output_type": "error",
     "traceback": [
      "\u001b[0;31m---------------------------------------------------------------------------\u001b[0m",
      "\u001b[0;31mModuleNotFoundError\u001b[0m                       Traceback (most recent call last)",
      "\u001b[0;32m<ipython-input-5-cd737a9befcc>\u001b[0m in \u001b[0;36m<module>\u001b[0;34m\u001b[0m\n\u001b[1;32m      1\u001b[0m \u001b[0;31m#GCP stuff\u001b[0m\u001b[0;34m\u001b[0m\u001b[0;34m\u001b[0m\u001b[0;34m\u001b[0m\u001b[0m\n\u001b[0;32m----> 2\u001b[0;31m \u001b[0;32mfrom\u001b[0m \u001b[0mgoogle\u001b[0m\u001b[0;34m.\u001b[0m\u001b[0mappengine\u001b[0m\u001b[0;34m.\u001b[0m\u001b[0mapi\u001b[0m \u001b[0;32mimport\u001b[0m \u001b[0mapp_identity\u001b[0m\u001b[0;34m\u001b[0m\u001b[0;34m\u001b[0m\u001b[0m\n\u001b[0m\u001b[1;32m      3\u001b[0m \u001b[0;34m\u001b[0m\u001b[0m\n\u001b[1;32m      4\u001b[0m bucket_name = os.environ.get('sleep-edfx-1.0.0.physionet.org',\n\u001b[1;32m      5\u001b[0m                                app_identity.get_default_gcs_bucket_name())\n",
      "\u001b[0;31mModuleNotFoundError\u001b[0m: No module named 'google'"
     ]
    }
   ],
   "source": [
    "#GCP stuff\n",
    "from google.appengine.api import app_identity\n",
    "\n",
    "bucket_name = os.environ.get('sleep-edfx-1.0.0.physionet.org',\n",
    "                               app_identity.get_default_gcs_bucket_name())"
   ]
  },
  {
   "cell_type": "markdown",
   "metadata": {},
   "source": [
    "<b> Upload Data </b>"
   ]
  },
  {
   "cell_type": "markdown",
   "metadata": {},
   "source": [
    "Input: String that contains folder name of folder with PSG.edf files\n",
    "\n",
    "\n",
    "Output: list of MNE Raw Objects"
   ]
  },
  {
   "cell_type": "code",
   "execution_count": null,
   "metadata": {},
   "outputs": [],
   "source": [
    "def __main__(data_folder):\n",
    "    for path in os.listdir(data_folder):\n",
    "        if path.endswith(\"PSG.edf\"):\n",
    "            full_path = os.path.join(data_folder, path)\n",
    "            raw = mne.io.read_raw_edf(full_path, preload=True)\n",
    "            mne_eeg = remove_sleepEDF(raw)\n",
    "            mne_filtered = filter(mne_eeg)\n",
    "            save(mne_filtered, path[:path.index(\"-\")])"
   ]
  },
  {
   "cell_type": "markdown",
   "metadata": {},
   "source": [
    "<b> Remove Non EEG Channels </b>"
   ]
  },
  {
   "cell_type": "markdown",
   "metadata": {},
   "source": [
    "Input: list of MNE Raw Objects\n",
    "\n",
    "Output: list of MNE Raw Objects with only EEG channels"
   ]
  },
  {
   "cell_type": "code",
   "execution_count": null,
   "metadata": {},
   "outputs": [],
   "source": [
    "#For sleep edf, manual extraction because mne.pick_types isn't working\n",
    "\n",
    "def remove_sleepEDF(mne_raw):\n",
    "    return mne_raw.pick_channels([\"EEG Fpz-Cz\", \"EEG Pz-Oz\"])"
   ]
  },
  {
   "cell_type": "code",
   "execution_count": null,
   "metadata": {},
   "outputs": [],
   "source": [
    "#In general\n",
    "def remove(mne_raw):\n",
    "    mne_eeg_gen = []\n",
    "    for point in mne_raw:\n",
    "        mne_eeg_gen.append(point.pick_types(eeg = True))\n",
    "    return mne_eeg_gen"
   ]
  },
  {
   "cell_type": "markdown",
   "metadata": {},
   "source": [
    "<b> Filter 30 HZ 4th-order FIR lowpass filter </b>"
   ]
  },
  {
   "cell_type": "markdown",
   "metadata": {},
   "source": [
    "Input: list of MNE Raw Objects with only EEG chaneels\n",
    "\n",
    "Output: list of filtered MNE Raw Objects\n"
   ]
  },
  {
   "cell_type": "code",
   "execution_count": null,
   "metadata": {},
   "outputs": [],
   "source": [
    "def filter(mne_eeg):\n",
    "    point2 = mne_eeg.filter(l_freq=None,\n",
    "            h_freq=30,\n",
    "            picks = [\"EEG Fpz-Cz\", \"EEG Pz-Oz\"],\n",
    "            filter_length = \"auto\",\n",
    "            method = \"fir\"\n",
    "            )\n",
    "    return point2"
   ]
  },
  {
   "cell_type": "markdown",
   "metadata": {},
   "source": [
    "<b> Pickle Objects </b>"
   ]
  },
  {
   "cell_type": "markdown",
   "metadata": {},
   "source": [
    "Input: A list of preprocessed MNE Objects.\n",
    "    \n",
    "Output: A FIF file"
   ]
  },
  {
   "cell_type": "code",
   "execution_count": null,
   "metadata": {},
   "outputs": [],
   "source": [
    "import pickle\n",
    "\n",
    "with open('data1.pkl', 'wb') as f:\n",
    "    pickle.dump(mne_filtered, f)"
   ]
  },
  {
   "cell_type": "markdown",
   "metadata": {},
   "source": [
    "<b> Save as FIF files </b>"
   ]
  },
  {
   "cell_type": "markdown",
   "metadata": {},
   "source": [
    "Input: A list of preprocessed MNE Objects\n",
    "    \n",
    "Output: A FIF file for each datapoint"
   ]
  },
  {
   "cell_type": "code",
   "execution_count": null,
   "metadata": {},
   "outputs": [],
   "source": [
    "def save(mne_filtered, name):\n",
    "    mne_filtered.save(\"data1/data1_{num}_raw.fif\".format(num = name))"
   ]
  },
  {
   "cell_type": "markdown",
   "metadata": {},
   "source": [
    "<b> Run pipeline </b>"
   ]
  },
  {
   "cell_type": "code",
   "execution_count": null,
   "metadata": {},
   "outputs": [],
   "source": [
    "data_folder = \"sleep-cassette\"\n",
    "__main__(data_folder)"
   ]
  },
  {
   "cell_type": "markdown",
   "metadata": {},
   "source": [
    "<b> Label Engineering: merge labels 3 and 4 </b>"
   ]
  },
  {
   "cell_type": "markdown",
   "metadata": {},
   "source": [
    "Input: path to folder containing Hypnogram label files (.edf format)\n",
    "\n",
    "Output: list of MNE Annotation Objects"
   ]
  },
  {
   "cell_type": "code",
   "execution_count": null,
   "metadata": {},
   "outputs": [],
   "source": [
    "data_folder = \"sample_hypnogram_data\"\n",
    "\n",
    "def upload_labels(data_folder):\n",
    "    labels = []\n",
    "    for path in os.listdir(data_folder):\n",
    "        if path.endswith(\".edf\"):\n",
    "            full_path = os.path.join(data_folder, path)\n",
    "            label = mne.read_annotations(full_path)\n",
    "            labels.append(label)\n",
    "    return labels\n",
    "\n",
    "labels = upload_labels(data_folder)"
   ]
  },
  {
   "cell_type": "markdown",
   "metadata": {},
   "source": [
    "Input: list of MNE Annotation Objects\n",
    "\n",
    "Output: list of MNE Annotation Objects with merged labels 3 and 4 --> now label 3"
   ]
  },
  {
   "cell_type": "code",
   "execution_count": null,
   "metadata": {},
   "outputs": [],
   "source": [
    "def merge(labels):\n",
    "    \n",
    "    def merge_labels(label):\n",
    "        new_label = np.array([])\n",
    "        for stage in label:\n",
    "            if stage == \"Sleep stage 4\":\n",
    "                new_label = np.append(new_label, \"Sleep stage 3\")\n",
    "            else:\n",
    "                new_label = np.append(new_label, stage)\n",
    "        return new_label\n",
    "    \n",
    "    for label in labels:\n",
    "        label.description = merge_labels(label.description)\n",
    "    \n",
    "merge(labels)        "
   ]
  },
  {
   "cell_type": "code",
   "execution_count": null,
   "metadata": {},
   "outputs": [],
   "source": [
    "raw = mne.io.read_raw_fif(full_path, preload=True)"
   ]
  }
 ],
 "metadata": {
  "kernelspec": {
   "display_name": "p37",
   "language": "python",
   "name": "p37"
  },
  "language_info": {
   "codemirror_mode": {
    "name": "ipython",
    "version": 3
   },
   "file_extension": ".py",
   "mimetype": "text/x-python",
   "name": "python",
   "nbconvert_exporter": "python",
   "pygments_lexer": "ipython3",
   "version": "3.7.4"
  }
 },
 "nbformat": 4,
 "nbformat_minor": 2
}
